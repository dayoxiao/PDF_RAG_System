{
 "cells": [
  {
   "cell_type": "code",
   "execution_count": 1,
   "metadata": {},
   "outputs": [],
   "source": [
    "from bm25 import load_bm25, create_bm25, bm25_search\n",
    "import os"
   ]
  },
  {
   "cell_type": "code",
   "execution_count": 2,
   "metadata": {},
   "outputs": [
    {
     "data": {
      "text/plain": [
       "'print(\"doc tokenization before stemmer and stopwords filter:\")\\nfor i, text in enumerate(doc):\\n    seg_list = jieba.cut_for_search(text) \\n    print(f\"DOC{i}: \" + \"/ \".join(seg_list))  # 搜尋引擎模式\\n\\nprint()\\nprint(\"query tokenization before stemmer and stopwords filter:\")\\nseg_list = jieba.cut_for_search(query) \\nprint(f\"Query: \" + \"/ \".join(seg_list))  # 搜尋引擎模式'"
      ]
     },
     "execution_count": 2,
     "metadata": {},
     "output_type": "execute_result"
    }
   ],
   "source": [
    "output_dir = 'test_BM25index_outputs'\n",
    "if not os.path.exists(output_dir):\n",
    "    os.makedirs(output_dir)\n",
    "\n",
    "doc = [\n",
    "    \"床前明月光\",\n",
    "    \"疑是地上霜\",\n",
    "    \"舉頭望明月\",\n",
    "    \"關於低頭思故鄉\",\n",
    "    \"In this guide, we define a bm25 retriever that search documents using the bm25 method. BM25 (Best Matching 25)\",\n",
    "    \"is a ranking function that extends TF-IDF by considering term frequency saturation and document length. BM25 effectively ranks documents based on query term occurrence\",\n",
    "    \"and rarity across the corpus. This notebook is very similar to the RouterQueryEngine notebook.\"\n",
    "]\n",
    "\n",
    "query = \"BM25, I have been going too far. 我愛retriever guide？低頭想故鄉\"\n",
    "\n",
    "\n",
    "\"\"\"print(\"doc tokenization before stemmer and stopwords filter:\")\n",
    "for i, text in enumerate(doc):\n",
    "    seg_list = jieba.cut_for_search(text) \n",
    "    print(f\"DOC{i}: \" + \"/ \".join(seg_list))  # 搜尋引擎模式\n",
    "\n",
    "print()\n",
    "print(\"query tokenization before stemmer and stopwords filter:\")\n",
    "seg_list = jieba.cut_for_search(query) \n",
    "print(f\"Query: \" + \"/ \".join(seg_list))  # 搜尋引擎模式\"\"\"\n"
   ]
  },
  {
   "cell_type": "code",
   "execution_count": null,
   "metadata": {},
   "outputs": [
    {
     "name": "stderr",
     "output_type": "stream",
     "text": [
      "Building prefix dict from /Users/yoyo/Documents/國泰/BM25/dict.txt.big ...\n",
      "Loading model from cache /var/folders/v7/_g3b28s51m532s03dhwffy9c0000gn/T/jieba.u938b08ca6a75588702a8549caaec8c7e.cache\n",
      "Loading model cost 0.796 seconds.\n",
      "Prefix dict has been built successfully.\n"
     ]
    },
    {
     "name": "stdout",
     "output_type": "stream",
     "text": [
      "load from json and mixure search: BM25, I have been going too far. 我愛retriever guide？低頭想故鄉\n",
      "Doc ID: 3, Score: 4.5532, Text: 關於低頭思故鄉\n",
      "Doc ID: 4, Score: 4.0954, Text: In this guide, we define a bm25 retriever that search documents using the bm25 method. BM25 (Best Matching 25)\n",
      "Doc ID: 5, Score: 0.6999, Text: is a ranking function that extends TF-IDF by considering term frequency saturation and document length. BM25 effectively ranks documents based on query term occurrence\n",
      "\n",
      "load from pickle and mixure search: BM25, I have been going too far. 我愛retriever guide？低頭想故鄉\n",
      "Doc ID: 3, Score: 4.5532, Text: 關於低頭思故鄉\n",
      "Doc ID: 4, Score: 4.0954, Text: In this guide, we define a bm25 retriever that search documents using the bm25 method. BM25 (Best Matching 25)\n",
      "Doc ID: 5, Score: 0.6999, Text: is a ranking function that extends TF-IDF by considering term frequency saturation and document length. BM25 effectively ranks documents based on query term occurrence\n",
      "\n",
      "search for: BM25, I have been going too far. 我愛retriever guide？低頭想故鄉\n",
      "Doc ID: 3, Score: 4.5532, Text: 關於低頭思故鄉\n",
      "Doc ID: 4, Score: 4.0954, Text: In this guide, we define a bm25 retriever that search documents using the bm25 method. BM25 (Best Matching 25)\n",
      "Doc ID: 5, Score: 0.6999, Text: is a ranking function that extends TF-IDF by considering term frequency saturation and document length. BM25 effectively ranks documents based on query term occurrence\n"
     ]
    }
   ],
   "source": [
    "# as json\n",
    "bm25_mixed_json = create_bm25(doc, 'mixed')\n",
    "#print(type(bm25_mixed_json))\n",
    "bm25_mixed_json.save(os.path.join(output_dir, 'bm25_mixed.json'))\n",
    "\n",
    "loaded_bm25_mixed_json = load_bm25(os.path.join(output_dir, 'bm25_mixed.json'), doc)\n",
    "print(\"load from json and mixure search:\", query)\n",
    "results_json = loaded_bm25_mixed_json.search(query, top_k=3)\n",
    "for doc_id, score in results_json:\n",
    "    print(f\"Doc ID: {doc_id}, Score: {score:.4f}, Text: {doc[doc_id]}\")\n",
    "\n",
    "# as pickle\n",
    "bm25_mixed_pkl = create_bm25(doc, 'mixed')\n",
    "bm25_mixed_pkl.save(os.path.join(output_dir, 'bm25_mixed.pkl'))\n",
    "\n",
    "loaded_bm25_mixed_pkl = load_bm25(os.path.join(output_dir, 'bm25_mixed.pkl'), doc)\n",
    "print(\"\\nload from pickle and mixure search:\", query)\n",
    "results_pkl = loaded_bm25_mixed_pkl.search(query, top_k=3)\n",
    "for doc_id, score in results_pkl:\n",
    "    print(f\"Doc ID: {doc_id}, Score: {score:.4f}, Text: {doc[doc_id]}\")\n",
    "\n",
    "\n",
    "# direct search\n",
    "print()\n",
    "results = bm25_search(corpus=doc,query=query, top_k=3)\n",
    "print(\"search for:\", query)\n",
    "for doc_id, score,doc in results:\n",
    "    print(f\"Doc ID: {doc_id}, Score: {score:.4f}, Text: {doc}\")"
   ]
  },
  {
   "cell_type": "code",
   "execution_count": null,
   "metadata": {},
   "outputs": [],
   "source": []
  }
 ],
 "metadata": {
  "kernelspec": {
   "display_name": "cathay_llm",
   "language": "python",
   "name": "python3"
  },
  "language_info": {
   "codemirror_mode": {
    "name": "ipython",
    "version": 3
   },
   "file_extension": ".py",
   "mimetype": "text/x-python",
   "name": "python",
   "nbconvert_exporter": "python",
   "pygments_lexer": "ipython3",
   "version": "3.10.16"
  }
 },
 "nbformat": 4,
 "nbformat_minor": 2
}
